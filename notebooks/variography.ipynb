{
 "cells": [
  {
   "cell_type": "code",
   "execution_count": 8,
   "metadata": {},
   "outputs": [],
   "source": [
    "from land_cover import load\n",
    "from gstools import vario_estimate\n",
    "from gstools.tools import DEGREE_SCALE, KM_SCALE\n",
    "from matplotlib import pyplot as plt"
   ]
  },
  {
   "cell_type": "code",
   "execution_count": 4,
   "metadata": {},
   "outputs": [
    {
     "data": {
      "text/html": [
       "<div>\n",
       "<style scoped>\n",
       "    .dataframe tbody tr th:only-of-type {\n",
       "        vertical-align: middle;\n",
       "    }\n",
       "\n",
       "    .dataframe tbody tr th {\n",
       "        vertical-align: top;\n",
       "    }\n",
       "\n",
       "    .dataframe thead th {\n",
       "        text-align: right;\n",
       "    }\n",
       "</style>\n",
       "<table border=\"1\" class=\"dataframe\">\n",
       "  <thead>\n",
       "    <tr style=\"text-align: right;\">\n",
       "      <th></th>\n",
       "      <th>ID</th>\n",
       "      <th>Lat_DD</th>\n",
       "      <th>Lon_DD</th>\n",
       "      <th>AvgOfTempC</th>\n",
       "      <th>AvgOfpH</th>\n",
       "      <th>AvgOfALKum</th>\n",
       "      <th>AvgOfCO2_o</th>\n",
       "      <th>StDevOfCO2</th>\n",
       "      <th>AvgOfpCO2</th>\n",
       "      <th>StDevOfpCO</th>\n",
       "      <th>EID</th>\n",
       "      <th>geometry</th>\n",
       "    </tr>\n",
       "  </thead>\n",
       "  <tbody>\n",
       "    <tr>\n",
       "      <th>0</th>\n",
       "      <td>15031700</td>\n",
       "      <td>58.168286</td>\n",
       "      <td>-133.726735</td>\n",
       "      <td>5.00</td>\n",
       "      <td>6.70</td>\n",
       "      <td>119.88</td>\n",
       "      <td>78.780219</td>\n",
       "      <td>0.000000</td>\n",
       "      <td>1234.682567</td>\n",
       "      <td>0.000000</td>\n",
       "      <td>e0</td>\n",
       "      <td>POINT (-133.72673 58.16829)</td>\n",
       "    </tr>\n",
       "    <tr>\n",
       "      <th>1</th>\n",
       "      <td>15051000</td>\n",
       "      <td>58.341619</td>\n",
       "      <td>-134.403160</td>\n",
       "      <td>1.50</td>\n",
       "      <td>7.20</td>\n",
       "      <td>319.68</td>\n",
       "      <td>75.041211</td>\n",
       "      <td>20.143512</td>\n",
       "      <td>1025.733067</td>\n",
       "      <td>249.206896</td>\n",
       "      <td>e1</td>\n",
       "      <td>POINT (-134.40316 58.34162)</td>\n",
       "    </tr>\n",
       "    <tr>\n",
       "      <th>2</th>\n",
       "      <td>15056120</td>\n",
       "      <td>59.468840</td>\n",
       "      <td>-135.299331</td>\n",
       "      <td>5.50</td>\n",
       "      <td>6.30</td>\n",
       "      <td>319.68</td>\n",
       "      <td>520.969456</td>\n",
       "      <td>0.000000</td>\n",
       "      <td>8315.749472</td>\n",
       "      <td>0.000000</td>\n",
       "      <td>e2</td>\n",
       "      <td>POINT (-135.29933 59.46884)</td>\n",
       "    </tr>\n",
       "    <tr>\n",
       "      <th>3</th>\n",
       "      <td>15056310</td>\n",
       "      <td>59.224951</td>\n",
       "      <td>-135.447940</td>\n",
       "      <td>12.25</td>\n",
       "      <td>6.60</td>\n",
       "      <td>849.15</td>\n",
       "      <td>582.689855</td>\n",
       "      <td>205.993601</td>\n",
       "      <td>11276.942548</td>\n",
       "      <td>795.016390</td>\n",
       "      <td>e3</td>\n",
       "      <td>POINT (-135.44794 59.22495)</td>\n",
       "    </tr>\n",
       "    <tr>\n",
       "      <th>4</th>\n",
       "      <td>15057860</td>\n",
       "      <td>55.102713</td>\n",
       "      <td>-131.565289</td>\n",
       "      <td>10.50</td>\n",
       "      <td>6.75</td>\n",
       "      <td>309.69</td>\n",
       "      <td>163.063331</td>\n",
       "      <td>44.072168</td>\n",
       "      <td>3025.846654</td>\n",
       "      <td>105.243959</td>\n",
       "      <td>e4</td>\n",
       "      <td>POINT (-131.56529 55.10271)</td>\n",
       "    </tr>\n",
       "  </tbody>\n",
       "</table>\n",
       "</div>"
      ],
      "text/plain": [
       "         ID     Lat_DD      Lon_DD  AvgOfTempC  AvgOfpH  AvgOfALKum  \\\n",
       "0  15031700  58.168286 -133.726735        5.00     6.70      119.88   \n",
       "1  15051000  58.341619 -134.403160        1.50     7.20      319.68   \n",
       "2  15056120  59.468840 -135.299331        5.50     6.30      319.68   \n",
       "3  15056310  59.224951 -135.447940       12.25     6.60      849.15   \n",
       "4  15057860  55.102713 -131.565289       10.50     6.75      309.69   \n",
       "\n",
       "   AvgOfCO2_o  StDevOfCO2     AvgOfpCO2  StDevOfpCO EID  \\\n",
       "0   78.780219    0.000000   1234.682567    0.000000  e0   \n",
       "1   75.041211   20.143512   1025.733067  249.206896  e1   \n",
       "2  520.969456    0.000000   8315.749472    0.000000  e2   \n",
       "3  582.689855  205.993601  11276.942548  795.016390  e3   \n",
       "4  163.063331   44.072168   3025.846654  105.243959  e4   \n",
       "\n",
       "                      geometry  \n",
       "0  POINT (-133.72673 58.16829)  \n",
       "1  POINT (-134.40316 58.34162)  \n",
       "2  POINT (-135.29933 59.46884)  \n",
       "3  POINT (-135.44794 59.22495)  \n",
       "4  POINT (-131.56529 55.10271)  "
      ]
     },
     "execution_count": 4,
     "metadata": {},
     "output_type": "execute_result"
    }
   ],
   "source": [
    "gdf = load.loadEfflux()\n",
    "gdf.head()"
   ]
  },
  {
   "cell_type": "code",
   "execution_count": 7,
   "metadata": {},
   "outputs": [],
   "source": [
    "bin_centers, gammas, counts = vario_estimate(\n",
    "    (gdf.Lon_DD, gdf.Lat_DD),\n",
    "    gdf.AvgOfpCO2,\n",
    "    # bins,\n",
    "    # sampling_size=1000,\n",
    "    # sampling_seed=42,\n",
    "    latlon=True,\n",
    "    geo_scale=KM_SCALE,\n",
    "    return_counts=True,\n",
    ")"
   ]
  },
  {
   "cell_type": "code",
   "execution_count": 9,
   "metadata": {},
   "outputs": [
    {
     "data": {
      "text/plain": [
       "Text(0, 0.5, 'Gamma')"
      ]
     },
     "execution_count": 9,
     "metadata": {},
     "output_type": "execute_result"
    },
    {
     "data": {
      "image/png": "[encoded data removed]",
      "text/plain": [
       "<Figure size 640x480 with 1 Axes>"
      ]
     },
     "metadata": {},
     "output_type": "display_data"
    }
   ],
   "source": [
    "plt.scatter(bin_centers, gammas)\n",
    "plt.xlabel(\"Range (km)\")\n",
    "plt.ylabel(\"Gamma\")"
   ]
  }
 ],
 "metadata": {
  "kernelspec": {
   "display_name": "geo",
   "language": "python",
   "name": "python3"
  },
  "language_info": {
   "codemirror_mode": {
    "name": "ipython",
    "version": 3
   },
   "file_extension": ".py",
   "mimetype": "text/x-python",
   "name": "python",
   "nbconvert_exporter": "python",
   "pygments_lexer": "ipython3",
   "version": "3.11.5"
  }
 },
 "nbformat": 4,
 "nbformat_minor": 2
}
