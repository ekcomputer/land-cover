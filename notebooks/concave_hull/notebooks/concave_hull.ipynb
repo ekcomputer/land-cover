{
 "cells": [
  {
   "cell_type": "code",
   "execution_count": 45,
   "metadata": {},
   "outputs": [],
   "source": [
    "import geopandas as gpd\n",
    "from lonboard import Map, BitmapTileLayer, PolygonLayer\n",
    "import lonboard"
   ]
  },
  {
   "cell_type": "code",
   "execution_count": 40,
   "metadata": {},
   "outputs": [],
   "source": [
    "BASEMAP_URL = 'https://mt1.google.com/vt/lyrs=s&x={x}&y={y}&z={z}'"
   ]
  },
  {
   "cell_type": "code",
   "execution_count": 39,
   "metadata": {},
   "outputs": [],
   "source": [
    "# pld_pth = '/Volumes/metis/Datasets/SWOT_PLD/Harmonized_SWORD_PLD_dataset.gdb'\n",
    "pld_pth = '/Volumes/metis/Datasets/SWOT_PLD/SWOT_PLD_v103_beta/SWOT_PLD_v103_beta.gdb'"
   ]
  },
  {
   "cell_type": "code",
   "execution_count": 29,
   "metadata": {},
   "outputs": [
    {
     "name": "stderr",
     "output_type": "stream",
     "text": [
      "/Users/ekyzivat/mambaforge/envs/geo/lib/python3.11/site-packages/pyogrio/raw.py:137: RuntimeWarning: organizePolygons() received a polygon with more than 100 parts. The processing may be really slow.  You can skip the processing by setting METHOD=SKIP, or only make it analyze counter-clock wise parts by setting METHOD=ONLY_CCW if you can assume that the outline of holes is counter-clock wise defined\n",
      "  result = ogr_read(\n"
     ]
    }
   ],
   "source": [
    "# gdf = gpd.read_file(pld_pth, engine='pyogrio') # TODO: multiple sub-datasets\n",
    "# TODO: multiple sub-datasets\n",
    "gdf = gpd.read_file(pld_pth, engine='pyogrio', rows=1000)"
   ]
  },
  {
   "cell_type": "code",
   "execution_count": 30,
   "metadata": {},
   "outputs": [
    {
     "name": "stdout",
     "output_type": "stream",
     "text": [
      "<class 'geopandas.geodataframe.GeoDataFrame'>\n",
      "RangeIndex: 1000 entries, 0 to 999\n",
      "Data columns (total 44 columns):\n",
      " #   Column             Non-Null Count  Dtype   \n",
      "---  ------             --------------  -----   \n",
      " 0   lake_id            1000 non-null   float64 \n",
      " 1   basin_id           1000 non-null   int32   \n",
      " 2   lake_num           1000 non-null   int32   \n",
      " 3   lake_type          1000 non-null   int32   \n",
      " 4   names              115 non-null    object  \n",
      " 5   res_id             10 non-null     float64 \n",
      " 6   reach_id_list      5 non-null      object  \n",
      " 7   lon                1000 non-null   float64 \n",
      " 8   lat                1000 non-null   float64 \n",
      " 9   ref_area           1000 non-null   float64 \n",
      " 10  ref_area_u         0 non-null      object  \n",
      " 11  ref_wse            0 non-null      object  \n",
      " 12  ref_wse_u          0 non-null      object  \n",
      " 13  date_t0            0 non-null      object  \n",
      " 14  ds_t0              0 non-null      object  \n",
      " 15  storage            0 non-null      object  \n",
      " 16  ice_clim_flag      70 non-null     object  \n",
      " 17  ice_dyn_flag       0 non-null      object  \n",
      " 18  pass_full_cal      0 non-null      object  \n",
      " 19  nb_pass_full_cal   1000 non-null   int32   \n",
      " 20  pass_part_cal      0 non-null      object  \n",
      " 21  nb_pass_part_cal   1000 non-null   int32   \n",
      " 22  pass_full_nom      658 non-null    object  \n",
      " 23  nb_pass_full_nom   1000 non-null   int32   \n",
      " 24  pass_part_nom      34 non-null     object  \n",
      " 25  nb_pass_part_nom   1000 non-null   int32   \n",
      " 26  req_size           1000 non-null   int32   \n",
      " 27  cycle_flag_cal     1000 non-null   int32   \n",
      " 28  cycle_flag_nom     1000 non-null   int32   \n",
      " 29  dist_flag          976 non-null    float64 \n",
      " 30  obs_flag           0 non-null      object  \n",
      " 31  min_dist           976 non-null    float64 \n",
      " 32  min_dist_lake      976 non-null    float64 \n",
      " 33  min_dist_lake_id   0 non-null      object  \n",
      " 34  min_dist_river     0 non-null      object  \n",
      " 35  min_dist_river_id  0 non-null      object  \n",
      " 36  ice_clim_flag2     70 non-null     object  \n",
      " 37  nb_ice_clim        70 non-null     object  \n",
      " 38  sources            1000 non-null   object  \n",
      " 39  pekel_occ_avg      0 non-null      object  \n",
      " 40  pekel_water_frac   0 non-null      object  \n",
      " 41  Shape_Length       1000 non-null   float64 \n",
      " 42  Shape_Area         1000 non-null   float64 \n",
      " 43  geometry           1000 non-null   geometry\n",
      "dtypes: float64(10), geometry(1), int32(10), object(23)\n",
      "memory usage: 304.8+ KB\n"
     ]
    },
    {
     "data": {
      "text/html": [
       "<div>\n",
       "<style scoped>\n",
       "    .dataframe tbody tr th:only-of-type {\n",
       "        vertical-align: middle;\n",
       "    }\n",
       "\n",
       "    .dataframe tbody tr th {\n",
       "        vertical-align: top;\n",
       "    }\n",
       "\n",
       "    .dataframe thead th {\n",
       "        text-align: right;\n",
       "    }\n",
       "</style>\n",
       "<table border=\"1\" class=\"dataframe\">\n",
       "  <thead>\n",
       "    <tr style=\"text-align: right;\">\n",
       "      <th></th>\n",
       "      <th>lake_id</th>\n",
       "      <th>basin_id</th>\n",
       "      <th>lake_num</th>\n",
       "      <th>lake_type</th>\n",
       "      <th>names</th>\n",
       "      <th>res_id</th>\n",
       "      <th>reach_id_list</th>\n",
       "      <th>lon</th>\n",
       "      <th>lat</th>\n",
       "      <th>ref_area</th>\n",
       "      <th>...</th>\n",
       "      <th>min_dist_river</th>\n",
       "      <th>min_dist_river_id</th>\n",
       "      <th>ice_clim_flag2</th>\n",
       "      <th>nb_ice_clim</th>\n",
       "      <th>sources</th>\n",
       "      <th>pekel_occ_avg</th>\n",
       "      <th>pekel_water_frac</th>\n",
       "      <th>Shape_Length</th>\n",
       "      <th>Shape_Area</th>\n",
       "      <th>geometry</th>\n",
       "    </tr>\n",
       "  </thead>\n",
       "  <tbody>\n",
       "    <tr>\n",
       "      <th>0</th>\n",
       "      <td>1.110000e+09</td>\n",
       "      <td>111</td>\n",
       "      <td>1</td>\n",
       "      <td>2</td>\n",
       "      <td>None</td>\n",
       "      <td>NaN</td>\n",
       "      <td>None</td>\n",
       "      <td>40.516084</td>\n",
       "      <td>14.953211</td>\n",
       "      <td>0.0153</td>\n",
       "      <td>...</td>\n",
       "      <td>None</td>\n",
       "      <td>None</td>\n",
       "      <td>None</td>\n",
       "      <td>None</td>\n",
       "      <td>Circa2015</td>\n",
       "      <td>None</td>\n",
       "      <td>None</td>\n",
       "      <td>0.008243</td>\n",
       "      <td>0.000001</td>\n",
       "      <td>MULTIPOLYGON (((40.51554 14.95211, 40.51526 14...</td>\n",
       "    </tr>\n",
       "    <tr>\n",
       "      <th>1</th>\n",
       "      <td>1.110000e+09</td>\n",
       "      <td>111</td>\n",
       "      <td>2</td>\n",
       "      <td>2</td>\n",
       "      <td>None</td>\n",
       "      <td>NaN</td>\n",
       "      <td>None</td>\n",
       "      <td>40.513709</td>\n",
       "      <td>14.950827</td>\n",
       "      <td>0.0207</td>\n",
       "      <td>...</td>\n",
       "      <td>None</td>\n",
       "      <td>None</td>\n",
       "      <td>None</td>\n",
       "      <td>None</td>\n",
       "      <td>Circa2015</td>\n",
       "      <td>None</td>\n",
       "      <td>None</td>\n",
       "      <td>0.009870</td>\n",
       "      <td>0.000002</td>\n",
       "      <td>MULTIPOLYGON (((40.51301 14.94914, 40.51273 14...</td>\n",
       "    </tr>\n",
       "    <tr>\n",
       "      <th>2</th>\n",
       "      <td>1.110000e+09</td>\n",
       "      <td>111</td>\n",
       "      <td>3</td>\n",
       "      <td>2</td>\n",
       "      <td>None</td>\n",
       "      <td>NaN</td>\n",
       "      <td>None</td>\n",
       "      <td>40.366773</td>\n",
       "      <td>14.963724</td>\n",
       "      <td>0.0225</td>\n",
       "      <td>...</td>\n",
       "      <td>None</td>\n",
       "      <td>None</td>\n",
       "      <td>None</td>\n",
       "      <td>None</td>\n",
       "      <td>Circa2015</td>\n",
       "      <td>None</td>\n",
       "      <td>None</td>\n",
       "      <td>0.011575</td>\n",
       "      <td>0.000002</td>\n",
       "      <td>MULTIPOLYGON (((40.36807 14.96253, 40.36751 14...</td>\n",
       "    </tr>\n",
       "    <tr>\n",
       "      <th>3</th>\n",
       "      <td>1.110000e+09</td>\n",
       "      <td>111</td>\n",
       "      <td>4</td>\n",
       "      <td>2</td>\n",
       "      <td>None</td>\n",
       "      <td>NaN</td>\n",
       "      <td>None</td>\n",
       "      <td>39.142489</td>\n",
       "      <td>16.668554</td>\n",
       "      <td>0.0468</td>\n",
       "      <td>...</td>\n",
       "      <td>None</td>\n",
       "      <td>None</td>\n",
       "      <td>None</td>\n",
       "      <td>None</td>\n",
       "      <td>Circa2015</td>\n",
       "      <td>None</td>\n",
       "      <td>None</td>\n",
       "      <td>0.009905</td>\n",
       "      <td>0.000004</td>\n",
       "      <td>MULTIPOLYGON (((39.14344 16.66711, 39.14232 16...</td>\n",
       "    </tr>\n",
       "    <tr>\n",
       "      <th>4</th>\n",
       "      <td>1.110000e+09</td>\n",
       "      <td>111</td>\n",
       "      <td>5</td>\n",
       "      <td>2</td>\n",
       "      <td>None</td>\n",
       "      <td>NaN</td>\n",
       "      <td>None</td>\n",
       "      <td>39.445854</td>\n",
       "      <td>15.681782</td>\n",
       "      <td>0.2421</td>\n",
       "      <td>...</td>\n",
       "      <td>None</td>\n",
       "      <td>None</td>\n",
       "      <td>None</td>\n",
       "      <td>None</td>\n",
       "      <td>Circa2015</td>\n",
       "      <td>None</td>\n",
       "      <td>None</td>\n",
       "      <td>0.044933</td>\n",
       "      <td>0.000020</td>\n",
       "      <td>MULTIPOLYGON (((39.44731 15.67679, 39.44703 15...</td>\n",
       "    </tr>\n",
       "  </tbody>\n",
       "</table>\n",
       "<p>5 rows × 44 columns</p>\n",
       "</div>"
      ],
      "text/plain": [
       "        lake_id  basin_id  lake_num  lake_type names  res_id reach_id_list  \\\n",
       "0  1.110000e+09       111         1          2  None     NaN          None   \n",
       "1  1.110000e+09       111         2          2  None     NaN          None   \n",
       "2  1.110000e+09       111         3          2  None     NaN          None   \n",
       "3  1.110000e+09       111         4          2  None     NaN          None   \n",
       "4  1.110000e+09       111         5          2  None     NaN          None   \n",
       "\n",
       "         lon        lat  ref_area  ... min_dist_river min_dist_river_id  \\\n",
       "0  40.516084  14.953211    0.0153  ...           None              None   \n",
       "1  40.513709  14.950827    0.0207  ...           None              None   \n",
       "2  40.366773  14.963724    0.0225  ...           None              None   \n",
       "3  39.142489  16.668554    0.0468  ...           None              None   \n",
       "4  39.445854  15.681782    0.2421  ...           None              None   \n",
       "\n",
       "  ice_clim_flag2 nb_ice_clim    sources pekel_occ_avg pekel_water_frac  \\\n",
       "0           None        None  Circa2015          None             None   \n",
       "1           None        None  Circa2015          None             None   \n",
       "2           None        None  Circa2015          None             None   \n",
       "3           None        None  Circa2015          None             None   \n",
       "4           None        None  Circa2015          None             None   \n",
       "\n",
       "  Shape_Length Shape_Area                                           geometry  \n",
       "0     0.008243   0.000001  MULTIPOLYGON (((40.51554 14.95211, 40.51526 14...  \n",
       "1     0.009870   0.000002  MULTIPOLYGON (((40.51301 14.94914, 40.51273 14...  \n",
       "2     0.011575   0.000002  MULTIPOLYGON (((40.36807 14.96253, 40.36751 14...  \n",
       "3     0.009905   0.000004  MULTIPOLYGON (((39.14344 16.66711, 39.14232 16...  \n",
       "4     0.044933   0.000020  MULTIPOLYGON (((39.44731 15.67679, 39.44703 15...  \n",
       "\n",
       "[5 rows x 44 columns]"
      ]
     },
     "execution_count": 30,
     "metadata": {},
     "output_type": "execute_result"
    }
   ],
   "source": [
    "gdf.info()\n",
    "gdf.head()"
   ]
  },
  {
   "cell_type": "code",
   "execution_count": 36,
   "metadata": {},
   "outputs": [],
   "source": [
    "d = gdf.dissolve()"
   ]
  },
  {
   "cell_type": "code",
   "execution_count": 37,
   "metadata": {},
   "outputs": [],
   "source": [
    "h = d.concave_hull(0.3)"
   ]
  },
  {
   "cell_type": "code",
   "execution_count": 38,
   "metadata": {},
   "outputs": [
    {
     "data": {
      "application/vnd.jupyter.widget-view+json": {
       "model_id": "b6a4079e8f87431db0f7724851bdff7d",
       "version_major": 2,
       "version_minor": 0
      },
      "text/plain": [
       "Map(basemap_style=<CartoBasemap.DarkMatter: 'https://basemaps.cartocdn.com/gl/dark-matter-gl-style/style.json'…"
      ]
     },
     "metadata": {},
     "output_type": "display_data"
    }
   ],
   "source": [
    "lonboard.viz(h)"
   ]
  },
  {
   "cell_type": "code",
   "execution_count": 53,
   "metadata": {},
   "outputs": [
    {
     "data": {
      "application/vnd.jupyter.widget-view+json": {
       "model_id": "a70a32ab9f90444589659c12b0b41052",
       "version_major": 2,
       "version_minor": 0
      },
      "text/plain": [
       "Map(layers=[BitmapTileLayer(data='https://mt1.google.com/vt/lyrs=s&x={x}&y={y}&z={z}', max_requests=-1, max_zo…"
      ]
     },
     "metadata": {},
     "output_type": "display_data"
    }
   ],
   "source": [
    "# We set `max_requests < 0` because `tile.openstreetmap.org` supports HTTP/2.\n",
    "imagery_layer = BitmapTileLayer(\n",
    "    data=BASEMAP_URL,\n",
    "    tile_size=256,\n",
    "    max_requests=-1,\n",
    "    min_zoom=0,\n",
    "    max_zoom=19,\n",
    ")\n",
    "polygon_layer = PolygonLayer.from_geopandas(gpd.GeoDataFrame(geometry=h))\n",
    "m = Map([imagery_layer, polygon_layer])\n",
    "m"
   ]
  },
  {
   "cell_type": "code",
   "execution_count": null,
   "metadata": {},
   "outputs": [],
   "source": []
  }
 ],
 "metadata": {
  "kernelspec": {
   "display_name": "geo",
   "language": "python",
   "name": "python3"
  },
  "language_info": {
   "codemirror_mode": {
    "name": "ipython",
    "version": 3
   },
   "file_extension": ".py",
   "mimetype": "text/x-python",
   "name": "python",
   "nbconvert_exporter": "python",
   "pygments_lexer": "ipython3",
   "version": "undefined.undefined.undefined"
  }
 },
 "nbformat": 4,
 "nbformat_minor": 2
}
