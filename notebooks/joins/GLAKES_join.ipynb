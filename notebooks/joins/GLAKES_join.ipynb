{
 "cells": [
  {
   "cell_type": "code",
   "execution_count": 1,
   "metadata": {},
   "outputs": [],
   "source": [
    "import geopandas as gpd\n",
    "import numpy as np\n",
    "import pandas as pd\n",
    "from matplotlib import pyplot as plt\n",
    "from matplotlib.colors import LogNorm, PowerNorm\n",
    "import seaborn as sns\n",
    "from tqdm import tqdm\n",
    "import numpy as np\n",
    "import pandas as pd\n",
    "import shapely\n",
    "import cartopy.crs as ccrs\n",
    "import cartopy.feature as cfeature\n",
    "from cartopy.io import img_tiles"
   ]
  },
  {
   "cell_type": "markdown",
   "metadata": {},
   "source": [
    "# I/O"
   ]
  },
  {
   "cell_type": "code",
   "execution_count": 2,
   "metadata": {},
   "outputs": [],
   "source": [
    "pth_merged = '/Volumes/metis/ABOVE3/Merged_inventories/aleb_glakes.shp'\n",
    "pth_glakes_ts = '/Volumes/metis/Datasets/GLAKES/GLAKES area time series.csv'"
   ]
  },
  {
   "cell_type": "code",
   "execution_count": 3,
   "metadata": {},
   "outputs": [],
   "source": [
    "gdf_merged = gpd.read_file(pth_merged)\n",
    "df_glakes_ts = pd.read_csv(pth_glakes_ts)"
   ]
  },
  {
   "cell_type": "markdown",
   "metadata": {},
   "source": [
    "# Join\n",
    "'area_2010_2019_wm' = invalid obs are masked\\\n",
    "'area_2010_2019_nm' = invalid obs inside lake are included"
   ]
  },
  {
   "cell_type": "code",
   "execution_count": 4,
   "metadata": {},
   "outputs": [],
   "source": [
    "## Inner join\n",
    "gdf_merged_joined = gdf_merged.merge(df_glakes_ts, on='Lake_id')\n",
    "gdf_merged_joined = gpd.GeoDataFrame(\n",
    "    gdf_merged_joined, geometry=shapely.points(gdf_merged_joined['longitude'], gdf_merged_joined['latitude']), crs='EPSG:4326')"
   ]
  },
  {
   "cell_type": "code",
   "execution_count": 5,
   "metadata": {},
   "outputs": [
    {
     "data": {
      "text/html": [
       "<div>\n",
       "<style scoped>\n",
       "    .dataframe tbody tr th:only-of-type {\n",
       "        vertical-align: middle;\n",
       "    }\n",
       "\n",
       "    .dataframe tbody tr th {\n",
       "        vertical-align: top;\n",
       "    }\n",
       "\n",
       "    .dataframe thead th {\n",
       "        text-align: right;\n",
       "    }\n",
       "</style>\n",
       "<table border=\"1\" class=\"dataframe\">\n",
       "  <thead>\n",
       "    <tr style=\"text-align: right;\">\n",
       "      <th></th>\n",
       "      <th>Sample_nam</th>\n",
       "      <th>Date</th>\n",
       "      <th>Location</th>\n",
       "      <th>latitude</th>\n",
       "      <th>longitude</th>\n",
       "      <th>EID</th>\n",
       "      <th>lat</th>\n",
       "      <th>long</th>\n",
       "      <th>pco2uatm</th>\n",
       "      <th>Reference</th>\n",
       "      <th>...</th>\n",
       "      <th>Rser_flag</th>\n",
       "      <th>Shape_Leng</th>\n",
       "      <th>Shape_Area</th>\n",
       "      <th>geometry</th>\n",
       "      <th>area_1984_1999_wm</th>\n",
       "      <th>area_2000_2009_wm</th>\n",
       "      <th>area_2010_2019_wm</th>\n",
       "      <th>area_1984_1999_nm</th>\n",
       "      <th>area_2000_2009_nm</th>\n",
       "      <th>area_2010_2019_nm</th>\n",
       "    </tr>\n",
       "  </thead>\n",
       "  <tbody>\n",
       "    <tr>\n",
       "      <th>0</th>\n",
       "      <td>Abraham Lake</td>\n",
       "      <td>9/16/2016</td>\n",
       "      <td>Yukon Flats</td>\n",
       "      <td>66.189000</td>\n",
       "      <td>-146.720000</td>\n",
       "      <td>a0</td>\n",
       "      <td>NaN</td>\n",
       "      <td>NaN</td>\n",
       "      <td>NaN</td>\n",
       "      <td>NaN</td>\n",
       "      <td>...</td>\n",
       "      <td>0.0</td>\n",
       "      <td>0.0800</td>\n",
       "      <td>0.000139</td>\n",
       "      <td>POINT (-146.72000 66.18900)</td>\n",
       "      <td>0.664159</td>\n",
       "      <td>0.668569</td>\n",
       "      <td>0.679648</td>\n",
       "      <td>0.666750</td>\n",
       "      <td>0.668843</td>\n",
       "      <td>0.679378</td>\n",
       "    </tr>\n",
       "    <tr>\n",
       "      <th>1</th>\n",
       "      <td>Atqasuk Summer 08-12-12</td>\n",
       "      <td>8/12/2012</td>\n",
       "      <td>North Alaska</td>\n",
       "      <td>70.327230</td>\n",
       "      <td>-156.806550</td>\n",
       "      <td>a2</td>\n",
       "      <td>NaN</td>\n",
       "      <td>NaN</td>\n",
       "      <td>NaN</td>\n",
       "      <td>NaN</td>\n",
       "      <td>...</td>\n",
       "      <td>0.0</td>\n",
       "      <td>0.0995</td>\n",
       "      <td>0.000344</td>\n",
       "      <td>POINT (-156.80655 70.32723)</td>\n",
       "      <td>0.000000</td>\n",
       "      <td>0.000000</td>\n",
       "      <td>0.000000</td>\n",
       "      <td>1.429877</td>\n",
       "      <td>1.430839</td>\n",
       "      <td>1.423184</td>\n",
       "    </tr>\n",
       "    <tr>\n",
       "      <th>2</th>\n",
       "      <td>Backdoor 07-17-19</td>\n",
       "      <td>7/17/2019</td>\n",
       "      <td>Wekweeti</td>\n",
       "      <td>64.203778</td>\n",
       "      <td>-114.257712</td>\n",
       "      <td>a3</td>\n",
       "      <td>NaN</td>\n",
       "      <td>NaN</td>\n",
       "      <td>NaN</td>\n",
       "      <td>NaN</td>\n",
       "      <td>...</td>\n",
       "      <td>0.0</td>\n",
       "      <td>0.4280</td>\n",
       "      <td>0.000716</td>\n",
       "      <td>POINT (-114.25771 64.20378)</td>\n",
       "      <td>3.707591</td>\n",
       "      <td>3.797908</td>\n",
       "      <td>3.781240</td>\n",
       "      <td>3.721846</td>\n",
       "      <td>3.809612</td>\n",
       "      <td>3.792168</td>\n",
       "    </tr>\n",
       "    <tr>\n",
       "      <th>3</th>\n",
       "      <td>Balloon lake 1 08-05-19</td>\n",
       "      <td>8/5/2019</td>\n",
       "      <td>PAD</td>\n",
       "      <td>58.878560</td>\n",
       "      <td>-111.252690</td>\n",
       "      <td>a5</td>\n",
       "      <td>NaN</td>\n",
       "      <td>NaN</td>\n",
       "      <td>NaN</td>\n",
       "      <td>NaN</td>\n",
       "      <td>...</td>\n",
       "      <td>0.0</td>\n",
       "      <td>0.0380</td>\n",
       "      <td>0.000028</td>\n",
       "      <td>POINT (-111.25269 58.87856)</td>\n",
       "      <td>0.058785</td>\n",
       "      <td>0.080864</td>\n",
       "      <td>0.082146</td>\n",
       "      <td>0.059340</td>\n",
       "      <td>0.081494</td>\n",
       "      <td>0.082521</td>\n",
       "    </tr>\n",
       "    <tr>\n",
       "      <th>4</th>\n",
       "      <td>Barrow 2 Summer 08-13-12</td>\n",
       "      <td>8/13/2012</td>\n",
       "      <td>North Alaska</td>\n",
       "      <td>71.175560</td>\n",
       "      <td>-156.897310</td>\n",
       "      <td>a6</td>\n",
       "      <td>NaN</td>\n",
       "      <td>NaN</td>\n",
       "      <td>NaN</td>\n",
       "      <td>NaN</td>\n",
       "      <td>...</td>\n",
       "      <td>0.0</td>\n",
       "      <td>0.2140</td>\n",
       "      <td>0.000958</td>\n",
       "      <td>POINT (-156.89731 71.17556)</td>\n",
       "      <td>0.000000</td>\n",
       "      <td>0.000000</td>\n",
       "      <td>0.000000</td>\n",
       "      <td>3.638815</td>\n",
       "      <td>3.667867</td>\n",
       "      <td>3.749362</td>\n",
       "    </tr>\n",
       "  </tbody>\n",
       "</table>\n",
       "<p>5 rows × 56 columns</p>\n",
       "</div>"
      ],
      "text/plain": [
       "                 Sample_nam       Date      Location   latitude   longitude  \\\n",
       "0              Abraham Lake  9/16/2016   Yukon Flats  66.189000 -146.720000   \n",
       "1   Atqasuk Summer 08-12-12  8/12/2012  North Alaska  70.327230 -156.806550   \n",
       "2         Backdoor 07-17-19  7/17/2019      Wekweeti  64.203778 -114.257712   \n",
       "3   Balloon lake 1 08-05-19   8/5/2019           PAD  58.878560 -111.252690   \n",
       "4  Barrow 2 Summer 08-13-12  8/13/2012  North Alaska  71.175560 -156.897310   \n",
       "\n",
       "  EID  lat  long  pco2uatm Reference  ...  Rser_flag  Shape_Leng  Shape_Area  \\\n",
       "0  a0  NaN   NaN       NaN       NaN  ...        0.0      0.0800    0.000139   \n",
       "1  a2  NaN   NaN       NaN       NaN  ...        0.0      0.0995    0.000344   \n",
       "2  a3  NaN   NaN       NaN       NaN  ...        0.0      0.4280    0.000716   \n",
       "3  a5  NaN   NaN       NaN       NaN  ...        0.0      0.0380    0.000028   \n",
       "4  a6  NaN   NaN       NaN       NaN  ...        0.0      0.2140    0.000958   \n",
       "\n",
       "                      geometry area_1984_1999_wm  area_2000_2009_wm  \\\n",
       "0  POINT (-146.72000 66.18900)          0.664159           0.668569   \n",
       "1  POINT (-156.80655 70.32723)          0.000000           0.000000   \n",
       "2  POINT (-114.25771 64.20378)          3.707591           3.797908   \n",
       "3  POINT (-111.25269 58.87856)          0.058785           0.080864   \n",
       "4  POINT (-156.89731 71.17556)          0.000000           0.000000   \n",
       "\n",
       "   area_2010_2019_wm  area_1984_1999_nm  area_2000_2009_nm  area_2010_2019_nm  \n",
       "0           0.679648           0.666750           0.668843           0.679378  \n",
       "1           0.000000           1.429877           1.430839           1.423184  \n",
       "2           3.781240           3.721846           3.809612           3.792168  \n",
       "3           0.082146           0.059340           0.081494           0.082521  \n",
       "4           0.000000           3.638815           3.667867           3.749362  \n",
       "\n",
       "[5 rows x 56 columns]"
      ]
     },
     "execution_count": 5,
     "metadata": {},
     "output_type": "execute_result"
    }
   ],
   "source": [
    "gdf_merged_joined.head()"
   ]
  },
  {
   "cell_type": "code",
   "execution_count": 44,
   "metadata": {},
   "outputs": [],
   "source": [
    "gdf_merged_joined['pch_1984_2019'] = (gdf_merged_joined.area_2010_2019_nm -\n",
    "    gdf_merged_joined.area_1984_1999_nm) / gdf_merged_joined.area_1984_1999_nm * 100"
   ]
  },
  {
   "cell_type": "code",
   "execution_count": 27,
   "metadata": {},
   "outputs": [
    {
     "data": {
      "text/plain": [
       "Text(0.5, 0, 'Lake area change 1984 - 2019 (%)')"
      ]
     },
     "execution_count": 27,
     "metadata": {},
     "output_type": "execute_result"
    },
    {
     "data": {
      "image/png": "[encoded data removed]",
      "text/plain": [
       "<Figure size 640x480 with 1 Axes>"
      ]
     },
     "metadata": {},
     "output_type": "display_data"
    }
   ],
   "source": [
    "gdf_merged_joined['pch_1984_2019'].plot.hist(bins=np.arange(-20, 20, 0.5))\n",
    "plt.xlabel('Lake area change 1984 - 2019 (%)')"
   ]
  },
  {
   "cell_type": "code",
   "execution_count": 45,
   "metadata": {},
   "outputs": [
    {
     "name": "stdout",
     "output_type": "stream",
     "text": [
      "Median change: 1.6\n",
      "Mean change: 4.4\n",
      "n = 2674 / 8795\n"
     ]
    }
   ],
   "source": [
    "print(f\"Median change: {gdf_merged_joined['pch_1984_2019'].median():0.1f}\")\n",
    "print(f\"Mean change: {gdf_merged_joined['pch_1984_2019'].mean():0.1f}\")\n",
    "print(f\"n = {gdf_merged_joined['pch_1984_2019'].count()} / {len(gdf_merged)}\")"
   ]
  },
  {
   "cell_type": "code",
   "execution_count": 24,
   "metadata": {},
   "outputs": [
    {
     "data": {
      "text/plain": [
       "<Axes: >"
      ]
     },
     "execution_count": 24,
     "metadata": {},
     "output_type": "execute_result"
    },
    {
     "data": {
      "image/png": "[encoded data removed]",
      "text/plain": [
       "<Figure size 640x480 with 1 Axes>"
      ]
     },
     "metadata": {},
     "output_type": "display_data"
    }
   ],
   "source": [
    "gdf_merged_joined.plot(c=gdf_merged_joined.pch_1984_2019)"
   ]
  },
  {
   "cell_type": "markdown",
   "metadata": {},
   "source": [
    "# Write out shapefiles"
   ]
  },
  {
   "cell_type": "code",
   "execution_count": 26,
   "metadata": {},
   "outputs": [
    {
     "name": "stderr",
     "output_type": "stream",
     "text": [
      "/var/folders/rv/sn0kln2103b9fs4xl56n3w7w0000gn/T/ipykernel_9856/638398262.py:1: UserWarning: Column names longer than 10 characters will be truncated when saved to ESRI Shapefile.\n",
      "  gdf_merged_joined.to_file(\n",
      "/Users/ekyzivat/mambaforge/envs/geo/lib/python3.11/site-packages/pyogrio/raw.py:456: RuntimeWarning: Normalized/laundered field name: 'area_1984_1999_wm_x' to 'area_1984_'\n",
      "  ogr_write(\n",
      "/Users/ekyzivat/mambaforge/envs/geo/lib/python3.11/site-packages/pyogrio/raw.py:456: RuntimeWarning: Normalized/laundered field name: 'area_2000_2009_wm_x' to 'area_2000_'\n",
      "  ogr_write(\n",
      "/Users/ekyzivat/mambaforge/envs/geo/lib/python3.11/site-packages/pyogrio/raw.py:456: RuntimeWarning: Normalized/laundered field name: 'area_2010_2019_wm_x' to 'area_2010_'\n",
      "  ogr_write(\n",
      "/Users/ekyzivat/mambaforge/envs/geo/lib/python3.11/site-packages/pyogrio/raw.py:456: RuntimeWarning: Normalized/laundered field name: 'area_1984_1999_nm_x' to 'area_198_1'\n",
      "  ogr_write(\n",
      "/Users/ekyzivat/mambaforge/envs/geo/lib/python3.11/site-packages/pyogrio/raw.py:456: RuntimeWarning: Normalized/laundered field name: 'area_2000_2009_nm_x' to 'area_200_1'\n",
      "  ogr_write(\n",
      "/Users/ekyzivat/mambaforge/envs/geo/lib/python3.11/site-packages/pyogrio/raw.py:456: RuntimeWarning: Normalized/laundered field name: 'area_2010_2019_nm_x' to 'area_201_1'\n",
      "  ogr_write(\n",
      "/Users/ekyzivat/mambaforge/envs/geo/lib/python3.11/site-packages/pyogrio/raw.py:456: RuntimeWarning: Normalized/laundered field name: 'area_1984_1999_wm_y' to 'area_198_2'\n",
      "  ogr_write(\n",
      "/Users/ekyzivat/mambaforge/envs/geo/lib/python3.11/site-packages/pyogrio/raw.py:456: RuntimeWarning: Normalized/laundered field name: 'area_2000_2009_wm_y' to 'area_200_2'\n",
      "  ogr_write(\n",
      "/Users/ekyzivat/mambaforge/envs/geo/lib/python3.11/site-packages/pyogrio/raw.py:456: RuntimeWarning: Normalized/laundered field name: 'area_2010_2019_wm_y' to 'area_201_2'\n",
      "  ogr_write(\n",
      "/Users/ekyzivat/mambaforge/envs/geo/lib/python3.11/site-packages/pyogrio/raw.py:456: RuntimeWarning: Normalized/laundered field name: 'area_1984_1999_nm_y' to 'area_198_3'\n",
      "  ogr_write(\n",
      "/Users/ekyzivat/mambaforge/envs/geo/lib/python3.11/site-packages/pyogrio/raw.py:456: RuntimeWarning: Normalized/laundered field name: 'area_2000_2009_nm_y' to 'area_200_3'\n",
      "  ogr_write(\n",
      "/Users/ekyzivat/mambaforge/envs/geo/lib/python3.11/site-packages/pyogrio/raw.py:456: RuntimeWarning: Normalized/laundered field name: 'area_2010_2019_nm_y' to 'area_201_3'\n",
      "  ogr_write(\n",
      "/Users/ekyzivat/mambaforge/envs/geo/lib/python3.11/site-packages/pyogrio/raw.py:456: RuntimeWarning: Normalized/laundered field name: 'pch_1984_2019' to 'pch_1984_2'\n",
      "  ogr_write(\n",
      "/Users/ekyzivat/mambaforge/envs/geo/lib/python3.11/site-packages/pyogrio/raw.py:456: RuntimeWarning: Normalized/laundered field name: 'area_1984_1999_wm' to 'area_198_4'\n",
      "  ogr_write(\n",
      "/Users/ekyzivat/mambaforge/envs/geo/lib/python3.11/site-packages/pyogrio/raw.py:456: RuntimeWarning: Normalized/laundered field name: 'area_2000_2009_wm' to 'area_200_4'\n",
      "  ogr_write(\n",
      "/Users/ekyzivat/mambaforge/envs/geo/lib/python3.11/site-packages/pyogrio/raw.py:456: RuntimeWarning: Normalized/laundered field name: 'area_2010_2019_wm' to 'area_201_4'\n",
      "  ogr_write(\n",
      "/Users/ekyzivat/mambaforge/envs/geo/lib/python3.11/site-packages/pyogrio/raw.py:456: RuntimeWarning: Normalized/laundered field name: 'area_1984_1999_nm' to 'area_198_5'\n",
      "  ogr_write(\n",
      "/Users/ekyzivat/mambaforge/envs/geo/lib/python3.11/site-packages/pyogrio/raw.py:456: RuntimeWarning: Normalized/laundered field name: 'area_2000_2009_nm' to 'area_200_5'\n",
      "  ogr_write(\n",
      "/Users/ekyzivat/mambaforge/envs/geo/lib/python3.11/site-packages/pyogrio/raw.py:456: RuntimeWarning: Normalized/laundered field name: 'area_2010_2019_nm' to 'area_201_5'\n",
      "  ogr_write(\n"
     ]
    }
   ],
   "source": [
    "gdf_merged_joined.to_file(\n",
    "    '/Volumes/metis/ABOVE3/Merged_inventories/add_glakes_stats/aleb_glakes_stats.shp', engine='pyogrio')"
   ]
  }
 ],
 "metadata": {
  "kernelspec": {
   "display_name": "geo",
   "language": "python",
   "name": "python3"
  },
  "language_info": {
   "codemirror_mode": {
    "name": "ipython",
    "version": 3
   },
   "file_extension": ".py",
   "mimetype": "text/x-python",
   "name": "python",
   "nbconvert_exporter": "python",
   "pygments_lexer": "ipython3",
   "version": "3.11.5"
  }
 },
 "nbformat": 4,
 "nbformat_minor": 2
}
