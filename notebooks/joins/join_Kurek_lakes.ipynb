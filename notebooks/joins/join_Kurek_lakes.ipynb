{
 "cells": [
  {
   "cell_type": "markdown",
   "id": "4a40a7b4",
   "metadata": {},
   "source": [
    "Notebook to run periodically while digitizing Kurek data. Used to determine which X and Y fields are unmatched."
   ]
  },
  {
   "cell_type": "code",
   "execution_count": 1,
   "id": "3cc463d6",
   "metadata": {},
   "outputs": [],
   "source": [
    "import pandas as pd\n",
    "import geopandas as gpd"
   ]
  },
  {
   "cell_type": "code",
   "execution_count": 22,
   "id": "bc1102f5",
   "metadata": {},
   "outputs": [],
   "source": [
    "\n",
    "# Load CSV and shapefile\n",
    "dataset_path = \"/Volumes/metis/ABOVE3/Kurek_GBC22_data/out/Kurek_ABoVE Lakes DOM_GBC_2023_Table S1.csv\"\n",
    "shorelines_path = \"/Volumes/metis/ABOVE3/Kurek_GBC22_data/out/shorelines/ABOVE_coordinates_for_Ethan_10-19-21_geom.shp\"\n",
    "\n",
    "df_csv = pd.read_csv(dataset_path)\n",
    "gdf_shp = gpd.read_file(shorelines_path)\n"
   ]
  },
  {
   "cell_type": "code",
   "execution_count": 23,
   "id": "1e5f1f04",
   "metadata": {},
   "outputs": [
    {
     "name": "stdout",
     "output_type": "stream",
     "text": [
      "Unpaired in Kurek dataset (left_only): 7\n",
      "       Match_name\n",
      "35   Esker Lake 1\n",
      "58    Little Bear\n",
      "66             M2\n",
      "100        Toolik\n",
      "\n",
      "Unpaired in Shorelines shapefile (right_only): 21\n",
      "             Sample_nam\n",
      "0          Abraham Lake\n",
      "14           Barrow 2.1\n",
      "17            Boot Lake\n",
      "18           Buddy Lake\n",
      "42     Greenpepper Lake\n",
      "55              Lake M2\n",
      "59        Little Beaver\n",
      "79        Ninemile Lake\n",
      "91   Sands of Time Lake\n",
      "92          Scoter Lake\n",
      "93           Shack Lake\n",
      "99           Thumb Lake\n",
      "103       Toolik Summer\n",
      "104     Twelvemile Lake\n",
      "105           Twin Lake\n",
      "106     West Crazy Lake\n",
      "107               YF 08\n",
      "108               YF 09\n",
      "109               YF 14\n",
      "110               YF 17\n",
      "111               YF 20\n"
     ]
    }
   ],
   "source": [
    "\n",
    "# Perform the merge\n",
    "merged = df_csv.merge(\n",
    "    gdf_shp, left_on=\"Match_name\", right_on=\"Sample_nam\", how=\"outer\", indicator=True\n",
    ")\n",
    "\n",
    "# Find unpaired entries\n",
    "unpaired_csv = merged[merged[\"_merge\"] == \"left_only\"]\n",
    "unpaired_shp = merged[merged[\"_merge\"] == \"right_only\"]\n",
    "\n",
    "# Output for inspection\n",
    "print(\"Unpaired in Kurek dataset (left_only):\", len(unpaired_csv))\n",
    "print(unpaired_csv[[\"Match_name\"]].drop_duplicates())\n",
    "\n",
    "print(\"\\nUnpaired in Shorelines shapefile (right_only):\", len(unpaired_shp))\n",
    "print(unpaired_shp[[\"Sample_nam\"]].drop_duplicates())"
   ]
  },
  {
   "cell_type": "code",
   "execution_count": null,
   "id": "09d6ee94",
   "metadata": {},
   "outputs": [],
   "source": []
  }
 ],
 "metadata": {
  "kernelspec": {
   "display_name": "landcover",
   "language": "python",
   "name": "python3"
  },
  "language_info": {
   "codemirror_mode": {
    "name": "ipython",
    "version": 3
   },
   "file_extension": ".py",
   "mimetype": "text/x-python",
   "name": "python",
   "nbconvert_exporter": "python",
   "pygments_lexer": "ipython3",
   "version": "3.11.10"
  }
 },
 "nbformat": 4,
 "nbformat_minor": 5
}
