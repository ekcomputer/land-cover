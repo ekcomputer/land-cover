{
 "cells": [
  {
   "cell_type": "markdown",
   "id": "012d80ff",
   "metadata": {},
   "source": [
    "Notebook to join greenness file to compiled ALEB lakes\n",
    "\n",
    "Copied from Kurek_lakes_index, but This is just the joint part and then output is saved. See aleb_lakes_index.ipynb for continuation."
   ]
  },
  {
   "cell_type": "code",
   "execution_count": 48,
   "id": "eea79183",
   "metadata": {},
   "outputs": [
    {
     "name": "stdout",
     "output_type": "stream",
     "text": [
      "The autoreload extension is already loaded. To reload it, use:\n",
      "  %reload_ext autoreload\n"
     ]
    }
   ],
   "source": [
    "import pandas as pd\n",
    "import geopandas as gpd\n",
    "import seaborn as sns\n",
    "from matplotlib import pyplot as plt\n",
    "import os\n",
    "import numpy as np\n",
    "from shapely.geometry import box\n",
    "\n",
    "from land_cover.load import loadKurek, plot_dir, loadGreenness, kurek_bounds, loadLandCoverJoined, loadLandCoverJoinedShp, aleb_landcover_greenness_spatial\n",
    "from land_cover.distance import calcMeanBoundDist\n",
    "\n",
    "%load_ext autoreload\n",
    "%autoreload 2"
   ]
  },
  {
   "cell_type": "code",
   "execution_count": 17,
   "id": "86ac4242",
   "metadata": {},
   "outputs": [],
   "source": [
    "# Load merged dataset\n",
    "gdf_land = loadLandCoverJoinedShp()"
   ]
  },
  {
   "cell_type": "code",
   "execution_count": 18,
   "id": "8b98d88b",
   "metadata": {},
   "outputs": [
    {
     "name": "stdout",
     "output_type": "stream",
     "text": [
      "<class 'geopandas.geodataframe.GeoDataFrame'>\n",
      "RangeIndex: 465 entries, 0 to 464\n",
      "Data columns (total 33 columns):\n",
      " #   Column                     Non-Null Count  Dtype   \n",
      "---  ------                     --------------  -----   \n",
      " 0   Lake                       465 non-null    int64   \n",
      " 1   Lat_DD                     465 non-null    float64 \n",
      " 2   Lon_DD                     465 non-null    float64 \n",
      " 3   AvgOfTempC                 308 non-null    float64 \n",
      " 4   AvgOfpH                    308 non-null    float64 \n",
      " 5   AvgOfALKum                 308 non-null    float64 \n",
      " 6   AvgOfpCO2                  465 non-null    float64 \n",
      " 7   StDevOfpCO                 308 non-null    float64 \n",
      " 8   Name                       465 non-null    object  \n",
      " 9   Reference                  165 non-null    object  \n",
      " 10  mean_bound                 465 non-null    float64 \n",
      " 11  max_bound_                 465 non-null    float64 \n",
      " 12  Area_m2                    465 non-null    float64 \n",
      " 13  Perim_m2                   465 non-null    float64 \n",
      " 14  Total_inun_2014            465 non-null    float64 \n",
      " 15  Trees_pct_2014             388 non-null    float64 \n",
      " 16  Shrubs_pct_2014            388 non-null    float64 \n",
      " 17  Wetlands_pct_2014          388 non-null    float64 \n",
      " 18  Graminoid_pct_2014         388 non-null    float64 \n",
      " 19  Sparse_pct_2014            388 non-null    float64 \n",
      " 20  Littorals_pct_2014         388 non-null    float64 \n",
      " 21  Littoral_wetland_pct_2014  388 non-null    float64 \n",
      " 22  Total_inun_RSD             388 non-null    float64 \n",
      " 23  Total_inun_dyn_pct         388 non-null    float64 \n",
      " 24  Hi_water_yr                465 non-null    int64   \n",
      " 25  Lo_water_yr                465 non-null    int64   \n",
      " 26  Dominant_veg_2014          465 non-null    object  \n",
      " 27  Dominant_veg_group_2014    465 non-null    object  \n",
      " 28  SDF                        465 non-null    float64 \n",
      " 29  Perim_area_ratio           465 non-null    float64 \n",
      " 30  Total_inun_change          465 non-null    float64 \n",
      " 31  Total_inun_trend           465 non-null    object  \n",
      " 32  geometry                   465 non-null    geometry\n",
      "dtypes: float64(24), geometry(1), int64(3), object(5)\n",
      "memory usage: 120.0+ KB\n"
     ]
    }
   ],
   "source": [
    "gdf_land.info()"
   ]
  },
  {
   "cell_type": "markdown",
   "id": "fdc97777",
   "metadata": {},
   "source": [
    "Add greenness"
   ]
  },
  {
   "cell_type": "code",
   "execution_count": 26,
   "id": "b4e64638",
   "metadata": {},
   "outputs": [
    {
     "data": {
      "text/plain": [
       "542997"
      ]
     },
     "execution_count": 26,
     "metadata": {},
     "output_type": "execute_result"
    }
   ],
   "source": [
    "gdf_green = loadGreenness() #bounds='kurek')\n",
    "len(gdf_green)"
   ]
  },
  {
   "cell_type": "code",
   "execution_count": 33,
   "id": "c05d473e",
   "metadata": {},
   "outputs": [
    {
     "data": {
      "text/plain": [
       "60635"
      ]
     },
     "execution_count": 33,
     "metadata": {},
     "output_type": "execute_result"
    }
   ],
   "source": [
    "# Crop for faster processing, project to common coordinate system\n",
    "gdf_green = (\n",
    "    gpd.sjoin(\n",
    "        gdf_green,\n",
    "        gpd.GeoDataFrame(geometry=[box(*gdf_land.to_crs(gdf_green.crs).total_bounds)], crs=gdf_green.crs),\n",
    "        predicate=\"intersects\",\n",
    "    )\n",
    "    .drop(columns=\"index_right\")\n",
    "    .to_crs(gdf_land.crs)\n",
    ")\n",
    "len(gdf_green)"
   ]
  },
  {
   "cell_type": "code",
   "execution_count": null,
   "id": "97fa849c",
   "metadata": {},
   "outputs": [
    {
     "name": "stdout",
     "output_type": "stream",
     "text": [
      "Original length of landcover dataset: 465\n"
     ]
    }
   ],
   "source": [
    "# Join greenness to landcover geoms, Noting that some lakes will not have any greenness data because they are too small\n",
    "len_gdf0 = len(gdf_land)\n",
    "print(f\"Original length of landcover dataset: {len_gdf0}\")\n",
    "gdf = gpd.sjoin(gdf_land[[\"geometry\", \"Lake\"]], gdf_green, \"left\")"
   ]
  },
  {
   "cell_type": "markdown",
   "id": "14905912",
   "metadata": {},
   "source": [
    "TODO: generalize these next two cells as a function"
   ]
  },
  {
   "cell_type": "code",
   "execution_count": 41,
   "id": "e832ca92",
   "metadata": {},
   "outputs": [],
   "source": [
    "# Some lakes have multiple matches in GLAKES Due to narrow connections being split into multiple lakes. Need to aggregate by averaging.\n",
    "agg_dict = {\n",
    "    col: \"mean\" if pd.api.types.is_dtype_equal(gdf[col].dtype, \"float64\") else \"first\"\n",
    "    for col in gdf.columns\n",
    "}\n",
    "gdf = gdf.groupby(\"Lake\", as_index=False).agg(agg_dict)"
   ]
  },
  {
   "cell_type": "code",
   "execution_count": null,
   "id": "1a6f2128",
   "metadata": {},
   "outputs": [
    {
     "name": "stdout",
     "output_type": "stream",
     "text": [
      "After join: length of landcover dataset: 465\n"
     ]
    }
   ],
   "source": [
    "# Join greenness to remaining landcover fields\n",
    "len_gdf0 = len(gdf)\n",
    "gdf = pd.merge(\n",
    "    gdf, gdf_land.drop(columns=[\"geometry\"]), \"inner\", \"Lake\", validate=\"one_to_one\"\n",
    ").set_geometry(\"geometry\")\n",
    "gdf.crs = gdf_land.crs\n",
    "print(f\"After join: length of landcover dataset: {len(gdf)}\")"
   ]
  },
  {
   "cell_type": "markdown",
   "id": "3e6791a4",
   "metadata": {},
   "source": [
    "Note that only 324 / 465 have Liu greenness, and only 219 have Kuhn greenness"
   ]
  },
  {
   "cell_type": "code",
   "execution_count": 45,
   "id": "258ddfc9",
   "metadata": {},
   "outputs": [
    {
     "name": "stdout",
     "output_type": "stream",
     "text": [
      "<class 'geopandas.geodataframe.GeoDataFrame'>\n",
      "RangeIndex: 465 entries, 0 to 464\n",
      "Data columns (total 59 columns):\n",
      " #   Column                     Non-Null Count  Dtype   \n",
      "---  ------                     --------------  -----   \n",
      " 0   geometry                   465 non-null    geometry\n",
      " 1   Lake                       465 non-null    int64   \n",
      " 2   index_right                324 non-null    float64 \n",
      " 3   OBJECTID                   324 non-null    float64 \n",
      " 4   Lake_id                    324 non-null    float64 \n",
      " 5   Area_bound                 324 non-null    float64 \n",
      " 6   Area_PW                    324 non-null    float64 \n",
      " 7   Continent                  324 non-null    object  \n",
      " 8   Lat                        324 non-null    float64 \n",
      " 9   Lon                        324 non-null    float64 \n",
      " 10  GFed_flag                  324 non-null    float64 \n",
      " 11  PFed_flag                  324 non-null    float64 \n",
      " 12  Endo_flag                  324 non-null    float64 \n",
      " 13  Rser_flag                  324 non-null    float64 \n",
      " 14  Shape_Leng                 324 non-null    float64 \n",
      " 15  Shape_Area                 324 non-null    float64 \n",
      " 16  MA_p1                      324 non-null    object  \n",
      " 17  MA_p2                      324 non-null    object  \n",
      " 18  MA_p3                      324 non-null    object  \n",
      " 19  LEV_p3                     324 non-null    float64 \n",
      " 20  LEV_p1                     324 non-null    float64 \n",
      " 21  LEV_p1p3in                 324 non-null    float64 \n",
      " 22  Hylak_id                   299 non-null    float64 \n",
      " 23  green_sen_slope            219 non-null    float64 \n",
      " 24  green_mann_kendall_trend   219 non-null    object  \n",
      " 25  green_trend_significance   219 non-null    float64 \n",
      " 26  green_b2_mean              219 non-null    float64 \n",
      " 27  green_b2_stddev            219 non-null    float64 \n",
      " 28  Lat_DD                     465 non-null    float64 \n",
      " 29  Lon_DD                     465 non-null    float64 \n",
      " 30  AvgOfTempC                 308 non-null    float64 \n",
      " 31  AvgOfpH                    308 non-null    float64 \n",
      " 32  AvgOfALKum                 308 non-null    float64 \n",
      " 33  AvgOfpCO2                  465 non-null    float64 \n",
      " 34  StDevOfpCO                 308 non-null    float64 \n",
      " 35  Name                       465 non-null    object  \n",
      " 36  Reference                  165 non-null    object  \n",
      " 37  mean_bound                 465 non-null    float64 \n",
      " 38  max_bound_                 465 non-null    float64 \n",
      " 39  Area_m2                    465 non-null    float64 \n",
      " 40  Perim_m2                   465 non-null    float64 \n",
      " 41  Total_inun_2014            465 non-null    float64 \n",
      " 42  Trees_pct_2014             388 non-null    float64 \n",
      " 43  Shrubs_pct_2014            388 non-null    float64 \n",
      " 44  Wetlands_pct_2014          388 non-null    float64 \n",
      " 45  Graminoid_pct_2014         388 non-null    float64 \n",
      " 46  Sparse_pct_2014            388 non-null    float64 \n",
      " 47  Littorals_pct_2014         388 non-null    float64 \n",
      " 48  Littoral_wetland_pct_2014  388 non-null    float64 \n",
      " 49  Total_inun_RSD             388 non-null    float64 \n",
      " 50  Total_inun_dyn_pct         388 non-null    float64 \n",
      " 51  Hi_water_yr                465 non-null    int64   \n",
      " 52  Lo_water_yr                465 non-null    int64   \n",
      " 53  Dominant_veg_2014          465 non-null    object  \n",
      " 54  Dominant_veg_group_2014    465 non-null    object  \n",
      " 55  SDF                        465 non-null    float64 \n",
      " 56  Perim_area_ratio           465 non-null    float64 \n",
      " 57  Total_inun_change          465 non-null    float64 \n",
      " 58  Total_inun_trend           465 non-null    object  \n",
      "dtypes: float64(45), geometry(1), int64(3), object(10)\n",
      "memory usage: 214.5+ KB\n"
     ]
    }
   ],
   "source": [
    "gdf.info()"
   ]
  },
  {
   "cell_type": "markdown",
   "id": "503925d2",
   "metadata": {},
   "source": [
    "Save"
   ]
  },
  {
   "cell_type": "code",
   "execution_count": 54,
   "id": "582c0d91",
   "metadata": {},
   "outputs": [],
   "source": [
    "gdf.to_file(aleb_landcover_greenness_spatial)"
   ]
  }
 ],
 "metadata": {
  "kernelspec": {
   "display_name": "landcover",
   "language": "python",
   "name": "python3"
  },
  "language_info": {
   "codemirror_mode": {
    "name": "ipython",
    "version": 3
   },
   "file_extension": ".py",
   "mimetype": "text/x-python",
   "name": "python",
   "nbconvert_exporter": "python",
   "pygments_lexer": "ipython3",
   "version": "3.11.10"
  }
 },
 "nbformat": 4,
 "nbformat_minor": 5
}
